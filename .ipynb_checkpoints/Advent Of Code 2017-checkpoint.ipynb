{
 "cells": [
  {
   "cell_type": "markdown",
   "metadata": {},
   "source": [
    "# Prelude"
   ]
  },
  {
   "cell_type": "code",
   "execution_count": 1,
   "metadata": {},
   "outputs": [],
   "source": [
    "def input(num):\n",
    "    return [line.strip() for line in open(\"data/input%d.txt\" % num, \"r\")]\n",
    "def map_int(xs):\n",
    "    return [int(x) for x in xs]"
   ]
  },
  {
   "cell_type": "markdown",
   "metadata": {},
   "source": [
    "# [Day 5: A Maze of Twisty Trampolines, All Alike](https://adventofcode.com/2017/day/5)"
   ]
  },
  {
   "cell_type": "code",
   "execution_count": 30,
   "metadata": {},
   "outputs": [
    {
     "data": {
      "text/plain": [
       "375042"
      ]
     },
     "execution_count": 30,
     "metadata": {},
     "output_type": "execute_result"
    }
   ],
   "source": [
    "input5 = map_int(input(5))\n",
    "def solve5(data):\n",
    "    idx = 0\n",
    "    size = len(data)\n",
    "    steps = 0\n",
    "    while True:\n",
    "        steps += 1\n",
    "        next_idx = idx + data[idx]\n",
    "        if next_idx < 0 or next_idx >= size:\n",
    "            break\n",
    "        data[idx] += 1\n",
    "        idx = next_idx\n",
    "    return steps\n",
    "solve5([0,3,0,1,-3])\n",
    "solve5(input5)"
   ]
  },
  {
   "cell_type": "code",
   "execution_count": 31,
   "metadata": {},
   "outputs": [
    {
     "data": {
      "text/plain": [
       "28707598"
      ]
     },
     "execution_count": 31,
     "metadata": {},
     "output_type": "execute_result"
    }
   ],
   "source": [
    "input5 = map_int(input(5))\n",
    "def solve5b(data):\n",
    "    idx = 0\n",
    "    size = len(data)\n",
    "    steps = 0\n",
    "    while True:\n",
    "        steps += 1\n",
    "        next_idx = idx + data[idx]\n",
    "        if next_idx < 0 or next_idx >= size:\n",
    "            break\n",
    "        if data[idx] >= 3:\n",
    "            data[idx] -= 1\n",
    "        else:\n",
    "            data[idx] += 1\n",
    "        idx = next_idx\n",
    "    return steps\n",
    "#solve5b([0,3,0,1,-3])\n",
    "solve5b(input5)"
   ]
  },
  {
   "cell_type": "markdown",
   "metadata": {},
   "source": [
    "# [Day 6: Memory Reallocation](https://adventofcode.com/2017/day/6)"
   ]
  },
  {
   "cell_type": "markdown",
   "metadata": {},
   "source": [
    "Part 1"
   ]
  },
  {
   "cell_type": "code",
   "execution_count": 36,
   "metadata": {},
   "outputs": [
    {
     "data": {
      "text/plain": [
       "4074"
      ]
     },
     "execution_count": 36,
     "metadata": {},
     "output_type": "execute_result"
    }
   ],
   "source": [
    "input6 = input(6)\n",
    "input6 = [int(x.strip()) for x in input6[0].split()]\n",
    "\n",
    "seen = []\n",
    "steps = 0\n",
    "banks = input6\n",
    "while banks not in seen:\n",
    "    steps += 1\n",
    "    seen.append(banks)\n",
    "    banks = list(banks) # copy?\n",
    "    idx = banks.index(max(banks))\n",
    "    to_distribute = banks[idx]\n",
    "    banks[idx] = 0\n",
    "    while to_distribute > 0:\n",
    "        idx += 1\n",
    "        if idx >= len(banks):\n",
    "            idx = 0\n",
    "        banks[idx] += 1\n",
    "        to_distribute -= 1\n",
    "steps"
   ]
  },
  {
   "cell_type": "markdown",
   "metadata": {},
   "source": [
    "Part 2"
   ]
  },
  {
   "cell_type": "code",
   "execution_count": 37,
   "metadata": {},
   "outputs": [
    {
     "data": {
      "text/plain": [
       "(4074, 1281, 2793)"
      ]
     },
     "execution_count": 37,
     "metadata": {},
     "output_type": "execute_result"
    }
   ],
   "source": [
    "input6 = input(6)\n",
    "input6 = [int(x.strip()) for x in input6[0].split()]\n",
    "\n",
    "def to_dict_key(banks):\n",
    "    return \"-\".join([str(x) for x in banks])\n",
    "\n",
    "seen = {}\n",
    "steps = 0\n",
    "banks = input6\n",
    "while to_dict_key(banks) not in seen:\n",
    "    seen[to_dict_key(banks)] = steps\n",
    "    steps += 1\n",
    "    banks = list(banks) # copy?\n",
    "    idx = banks.index(max(banks))\n",
    "    to_distribute = banks[idx]\n",
    "    banks[idx] = 0\n",
    "    while to_distribute > 0:\n",
    "        idx += 1\n",
    "        if idx >= len(banks):\n",
    "            idx = 0\n",
    "        banks[idx] += 1\n",
    "        to_distribute -= 1\n",
    "(steps, seen[to_dict_key(banks)], steps - seen[to_dict_key(banks)])"
   ]
  },
  {
   "cell_type": "markdown",
   "metadata": {},
   "source": [
    "# [Day 7: Recursive Circus](https://adventofcode.com/2017/day/7)"
   ]
  },
  {
   "cell_type": "code",
   "execution_count": 47,
   "metadata": {},
   "outputs": [],
   "source": [
    "# Sample input\n",
    "input7 = \"\"\"\n",
    "pbga (66)\n",
    "xhth (57)\n",
    "ebii (61)\n",
    "havc (66)\n",
    "ktlj (57)\n",
    "fwft (72) -> ktlj, cntj, xhth\n",
    "qoyq (66)\n",
    "padx (45) -> pbga, havc, qoyq\n",
    "tknk (41) -> ugml, padx, fwft\n",
    "jptl (61)\n",
    "ugml (68) -> gyxo, ebii, jptl\n",
    "gyxo (61)\n",
    "cntj (57)\n",
    "\"\"\"\n",
    "input7 = [line.strip() for line in input7.split('\\n') if len(line.strip()) > 0]\n",
    "\n",
    "def to_tuple(input):\n",
    "    parts = input.split(' ')\n",
    "    parts[1] = int(parts[1].replace('(','').replace(')',''))\n",
    "    if len(parts) > 2:\n",
    "        parts[2] = [p.replace(',','') for p in parts[3:]]\n",
    "    else:\n",
    "        parts.append([])\n",
    "    return (parts[0], parts[1], parts[2])\n",
    "\n",
    "# Read from file\n",
    "input7 = input(7)\n",
    "input7 = list(map(to_tuple, input7))"
   ]
  },
  {
   "cell_type": "code",
   "execution_count": 48,
   "metadata": {},
   "outputs": [
    {
     "data": {
      "text/plain": [
       "['qibuqqg']"
      ]
     },
     "execution_count": 48,
     "metadata": {},
     "output_type": "execute_result"
    }
   ],
   "source": [
    "# Part 1\n",
    "\n",
    "nodes = {} # dict\n",
    "def get_node(name):\n",
    "    if name not in nodes:\n",
    "        nodes[name] = {'name':name, 'parents':[], 'children':[], 'weight':None} # name, parents, children, weight\n",
    "    return nodes[name]\n",
    "\n",
    "for (name, weight, children) in list(input7):\n",
    "    node = get_node(name)\n",
    "    node['weight'] = weight\n",
    "    for child_name in children:\n",
    "        child_node = get_node(child_name)\n",
    "        if child_node not in node['children']:\n",
    "            node['children'].append(child_node)\n",
    "        if node not in child_node['parents']:\n",
    "            child_node['parents'].append(node)\n",
    "\n",
    "\n",
    "[x['name'] for x in nodes.values() if len(x['parents']) == 0]"
   ]
  },
  {
   "cell_type": "code",
   "execution_count": 49,
   "metadata": {},
   "outputs": [
    {
     "name": "stdout",
     "output_type": "stream",
     "text": [
      "qibuqqg\n",
      "dwggjb\n",
      "wknuyhc\n"
     ]
    }
   ],
   "source": [
    "# Part 2\n",
    "\n",
    "def sum_tree(node):\n",
    "    if len(node['children']) == 0:\n",
    "        return node['weight']\n",
    "    else:\n",
    "        return node['weight'] + sum(map(sum_tree, node['children']))\n",
    "\n",
    "for node in nodes.values():\n",
    "    node['tree_weight'] = sum_tree(node)\n",
    "\n",
    "def all_equal(xs):\n",
    "    if len(xs) == 0:\n",
    "        return True\n",
    "    x = xs[0]\n",
    "    return len([_x for _x in xs if _x != x]) == 0\n",
    "\n",
    "for node in nodes.values():\n",
    "    if not all_equal([n['tree_weight'] for n in node['children']]):\n",
    "        print(node['name'])\n"
   ]
  },
  {
   "cell_type": "code",
   "execution_count": 57,
   "metadata": {},
   "outputs": [
    {
     "data": {
      "text/plain": [
       "[1640, 1640, 1640, 1640, 1647]"
      ]
     },
     "execution_count": 57,
     "metadata": {},
     "output_type": "execute_result"
    }
   ],
   "source": [
    "# wknuyhc has the smallest tree weight, so assume it is the deepest node\n",
    "# Find the weights of its subtrees\n",
    "[n['tree_weight'] for n in nodes['wknuyhc']['children']]"
   ]
  },
  {
   "cell_type": "code",
   "execution_count": 60,
   "metadata": {},
   "outputs": [
    {
     "data": {
      "text/plain": [
       "1079"
      ]
     },
     "execution_count": 60,
     "metadata": {},
     "output_type": "execute_result"
    }
   ],
   "source": [
    "# The last subtree is imbalanced. It is 'egbzge'\n",
    "# 'egbzge' subtree is too heavy by 7, but its subtrees are all equal, so\n",
    "# subtract 7 from its weight\n",
    "nodes['egbzge']['weight'] - 7"
   ]
  },
  {
   "cell_type": "markdown",
   "metadata": {},
   "source": [
    "# [Day 8: I Heard You Like Registers](https://adventofcode.com/2017/day/8)"
   ]
  },
  {
   "cell_type": "code",
   "execution_count": 8,
   "metadata": {
    "scrolled": true
   },
   "outputs": [],
   "source": [
    "SAMPLE_INPUT_8 = \"\"\"\n",
    "b inc 5 if a > 1\n",
    "a inc 1 if b < 5\n",
    "c dec -10 if a >= 1\n",
    "c inc -20 if c == 10\n",
    "\"\"\".strip().split('\\n')\n",
    "\n",
    "input8 = SAMPLE_INPUT_8\n",
    "input8 = input(8)"
   ]
  },
  {
   "cell_type": "code",
   "execution_count": 12,
   "metadata": {},
   "outputs": [
    {
     "name": "stdout",
     "output_type": "stream",
     "text": [
      "max register value at end: 3089, max attained: 5391\n"
     ]
    }
   ],
   "source": [
    "registers = {}\n",
    "max_register_value = 0\n",
    "\n",
    "def get_register(name):\n",
    "    if name not in registers:\n",
    "        registers[name] = 0\n",
    "    return registers[name]\n",
    "\n",
    "def put_register(name,val):\n",
    "    registers[name] = val\n",
    "    return val    \n",
    "\n",
    "def cmp(src, op_type, val):\n",
    "    if op_type == \">\":\n",
    "        return src > val\n",
    "    elif op_type == \"<\":\n",
    "        return src < val\n",
    "    elif op_type == \"==\":\n",
    "        return src == val\n",
    "    elif op_type == \"!=\":\n",
    "        return src != val\n",
    "    elif op_type == \"<=\":\n",
    "        return src <= val\n",
    "    elif op_type == \">=\":\n",
    "        return src >= val\n",
    "    else:\n",
    "        raise Exception(\"Unexpected op_typ for cmp: {}\".format(op_type))\n",
    "\n",
    "def op_delta(op_type, val):\n",
    "    return val if op_type == \"inc\" else -1*val\n",
    "\n",
    "def parse(inst):\n",
    "    parts = inst.split(' ')\n",
    "    source = get_register(parts[0])\n",
    "    val = int(parts[2])\n",
    "    delta = op_delta(parts[1], val)\n",
    "    condition_register = get_register(parts[4])\n",
    "    condition_val = int(parts[6])\n",
    "    condition_result = cmp(condition_register, parts[5], condition_val)\n",
    "    if condition_result:\n",
    "        return put_register(parts[0], source + delta)\n",
    "    return source\n",
    "\n",
    "    \n",
    "for inst in input8:\n",
    "    val = parse(inst)\n",
    "    max_register_value = max(val, max_register_value)\n",
    "    \n",
    "\n",
    "print(\"max register value at end: {}, max attained: {}\".format(max(registers.values()), max_register_value))"
   ]
  },
  {
   "cell_type": "code",
   "execution_count": null,
   "metadata": {},
   "outputs": [],
   "source": []
  }
 ],
 "metadata": {
  "kernelspec": {
   "display_name": "Python 3",
   "language": "python",
   "name": "python3"
  },
  "language_info": {
   "codemirror_mode": {
    "name": "ipython",
    "version": 3
   },
   "file_extension": ".py",
   "mimetype": "text/x-python",
   "name": "python",
   "nbconvert_exporter": "python",
   "pygments_lexer": "ipython3",
   "version": "3.7.1"
  }
 },
 "nbformat": 4,
 "nbformat_minor": 2
}
