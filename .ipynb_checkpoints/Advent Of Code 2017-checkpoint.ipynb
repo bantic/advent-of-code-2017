{
 "cells": [
  {
   "cell_type": "markdown",
   "metadata": {},
   "source": [
    "# Prelude"
   ]
  },
  {
   "cell_type": "code",
   "execution_count": 1,
   "metadata": {},
   "outputs": [],
   "source": [
    "def input(num):\n",
    "    return [line.strip() for line in open(\"data/input%d.txt\" % num, \"r\")]\n",
    "def map_int(xs):\n",
    "    return [int(x) for x in xs]"
   ]
  },
  {
   "cell_type": "markdown",
   "metadata": {},
   "source": [
    "# [Day 5: A Maze of Twisty Trampolines, All Alike](https://adventofcode.com/2017/day/5)"
   ]
  },
  {
   "cell_type": "code",
   "execution_count": 30,
   "metadata": {},
   "outputs": [
    {
     "data": {
      "text/plain": [
       "375042"
      ]
     },
     "execution_count": 30,
     "metadata": {},
     "output_type": "execute_result"
    }
   ],
   "source": [
    "input5 = map_int(input(5))\n",
    "def solve5(data):\n",
    "    idx = 0\n",
    "    size = len(data)\n",
    "    steps = 0\n",
    "    while True:\n",
    "        steps += 1\n",
    "        next_idx = idx + data[idx]\n",
    "        if next_idx < 0 or next_idx >= size:\n",
    "            break\n",
    "        data[idx] += 1\n",
    "        idx = next_idx\n",
    "    return steps\n",
    "solve5([0,3,0,1,-3])\n",
    "solve5(input5)"
   ]
  },
  {
   "cell_type": "code",
   "execution_count": 31,
   "metadata": {},
   "outputs": [
    {
     "data": {
      "text/plain": [
       "28707598"
      ]
     },
     "execution_count": 31,
     "metadata": {},
     "output_type": "execute_result"
    }
   ],
   "source": [
    "input5 = map_int(input(5))\n",
    "def solve5b(data):\n",
    "    idx = 0\n",
    "    size = len(data)\n",
    "    steps = 0\n",
    "    while True:\n",
    "        steps += 1\n",
    "        next_idx = idx + data[idx]\n",
    "        if next_idx < 0 or next_idx >= size:\n",
    "            break\n",
    "        if data[idx] >= 3:\n",
    "            data[idx] -= 1\n",
    "        else:\n",
    "            data[idx] += 1\n",
    "        idx = next_idx\n",
    "    return steps\n",
    "#solve5b([0,3,0,1,-3])\n",
    "solve5b(input5)"
   ]
  },
  {
   "cell_type": "markdown",
   "metadata": {},
   "source": [
    "# [Day 6: Memory Reallocation](https://adventofcode.com/2017/day/6)"
   ]
  },
  {
   "cell_type": "markdown",
   "metadata": {},
   "source": [
    "Part 1"
   ]
  },
  {
   "cell_type": "code",
   "execution_count": 22,
   "metadata": {},
   "outputs": [
    {
     "data": {
      "text/plain": [
       "4074"
      ]
     },
     "execution_count": 22,
     "metadata": {},
     "output_type": "execute_result"
    }
   ],
   "source": [
    "input6 = input(6)\n",
    "input6 = [int(x.strip()) for x in input6[0].split()]\n",
    "\n",
    "seen = []\n",
    "steps = 0\n",
    "banks = input6\n",
    "while banks not in seen:\n",
    "    steps += 1\n",
    "    seen.append(banks)\n",
    "    banks = list(banks) # copy?\n",
    "    idx = banks.index(max(banks))\n",
    "    to_distribute = banks[idx]\n",
    "    banks[idx] = 0\n",
    "    while to_distribute > 0:\n",
    "        idx += 1\n",
    "        if idx >= len(banks):\n",
    "            idx = 0\n",
    "        banks[idx] += 1\n",
    "        to_distribute -= 1\n",
    "steps"
   ]
  },
  {
   "cell_type": "markdown",
   "metadata": {},
   "source": [
    "Part 2"
   ]
  },
  {
   "cell_type": "code",
   "execution_count": 23,
   "metadata": {},
   "outputs": [
    {
     "data": {
      "text/plain": [
       "4074"
      ]
     },
     "execution_count": 23,
     "metadata": {},
     "output_type": "execute_result"
    }
   ],
   "source": [
    "input6 = input(6)\n",
    "input6 = [int(x.strip()) for x in input6[0].split()]\n",
    "\n",
    "seen = []\n",
    "steps = 0\n",
    "banks = input6\n",
    "while banks not in seen:\n",
    "    steps += 1\n",
    "    seen.append(banks)\n",
    "    banks = list(banks) # copy?\n",
    "    idx = banks.index(max(banks))\n",
    "    to_distribute = banks[idx]\n",
    "    banks[idx] = 0\n",
    "    while to_distribute > 0:\n",
    "        idx += 1\n",
    "        if idx >= len(banks):\n",
    "            idx = 0\n",
    "        banks[idx] += 1\n",
    "        to_distribute -= 1\n",
    "steps"
   ]
  },
  {
   "cell_type": "code",
   "execution_count": 35,
   "metadata": {},
   "outputs": [
    {
     "data": {
      "text/plain": [
       "(4074, 1281, 2793)"
      ]
     },
     "execution_count": 35,
     "metadata": {},
     "output_type": "execute_result"
    }
   ],
   "source": [
    "input6 = input(6)\n",
    "input6 = [int(x.strip()) for x in input6[0].split()]\n",
    "\n",
    "def to_dict_key(banks):\n",
    "    return \"-\".join([str(x) for x in banks])\n",
    "\n",
    "seen = {}\n",
    "steps = 0\n",
    "banks = input6\n",
    "while to_dict_key(banks) not in seen:\n",
    "    seen[to_dict_key(banks)] = steps\n",
    "    steps += 1\n",
    "    banks = list(banks) # copy?\n",
    "    idx = banks.index(max(banks))\n",
    "    to_distribute = banks[idx]\n",
    "    banks[idx] = 0\n",
    "    while to_distribute > 0:\n",
    "        idx += 1\n",
    "        if idx >= len(banks):\n",
    "            idx = 0\n",
    "        banks[idx] += 1\n",
    "        to_distribute -= 1\n",
    "(steps, seen[to_dict_key(banks)], steps - seen[to_dict_key(banks)])"
   ]
  },
  {
   "cell_type": "code",
   "execution_count": null,
   "metadata": {},
   "outputs": [],
   "source": []
  }
 ],
 "metadata": {
  "kernelspec": {
   "display_name": "Python 3",
   "language": "python",
   "name": "python3"
  },
  "language_info": {
   "codemirror_mode": {
    "name": "ipython",
    "version": 3
   },
   "file_extension": ".py",
   "mimetype": "text/x-python",
   "name": "python",
   "nbconvert_exporter": "python",
   "pygments_lexer": "ipython3",
   "version": "3.7.1"
  }
 },
 "nbformat": 4,
 "nbformat_minor": 2
}
